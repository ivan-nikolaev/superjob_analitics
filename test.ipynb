{
 "cells": [
  {
   "cell_type": "code",
   "execution_count": 2,
   "outputs": [],
   "source": [
    "import pandas\n",
    "import pickle\n",
    "import zipfile\n",
    "import datetime\n",
    "from tqdm import tqdm\n",
    "from catalog_class import Catalog"
   ],
   "metadata": {
    "collapsed": false,
    "pycharm": {
     "name": "#%%\n"
    }
   }
  },
  {
   "cell_type": "code",
   "execution_count": null,
   "outputs": [
    {
     "name": "stderr",
     "output_type": "stream",
     "text": [
      "14it [04:48, 64.74s/it]"
     ]
    }
   ],
   "source": [
    "catalogues_file = 'data\\\\catalogues.pickle'\n",
    "catalogues = Catalog(pickle_file=catalogues_file)"
   ],
   "metadata": {
    "collapsed": false,
    "pycharm": {
     "name": "#%%\n"
    }
   }
  },
  {
   "cell_type": "code",
   "execution_count": null,
   "outputs": [],
   "source": [
    "from project_tools.os_tools import generator_files_in_dir\n",
    "\n",
    "filtered_dir = r\"E:\\Google Drive nikolaev.ivan.rf\\vacancies\\filtered_id_catalogues_date\"\n",
    "\n",
    "dfs = []\n",
    "for file_zip in tqdm(generator_files_in_dir(filtered_dir, extension='.zip')):\n",
    "    with zipfile.ZipFile(file_zip) as opened_zip:\n",
    "        for pickle_file_in_zip in opened_zip.namelist():\n",
    "            with opened_zip.open(pickle_file_in_zip, 'r') as mypicklefile:\n",
    "                df = pickle.load(mypicklefile)\n",
    "                dfs.append(df)"
   ],
   "metadata": {
    "collapsed": false,
    "pycharm": {
     "name": "#%%\n",
     "is_executing": true
    }
   }
  },
  {
   "cell_type": "code",
   "execution_count": null,
   "metadata": {
    "collapsed": true,
    "pycharm": {
     "is_executing": true
    }
   },
   "outputs": [],
   "source": [
    "df = pandas.concat(dfs, ignore_index=True)\n",
    "df.head(3)\n",
    "print(len(df))"
   ]
  },
  {
   "cell_type": "code",
   "execution_count": null,
   "outputs": [],
   "source": [
    "df['date_published_normal'] = df['date_published'].apply(datetime.datetime.fromtimestamp)\n",
    "df['catalogues_len'] = df['catalogues'].apply(len)\n",
    "df.head()"
   ],
   "metadata": {
    "collapsed": false,
    "pycharm": {
     "name": "#%%\n"
    }
   }
  },
  {
   "cell_type": "code",
   "execution_count": null,
   "outputs": [],
   "source": [
    "# распределение вакансий по количеству catalogues у одной вакансии\n",
    "df['catalogues_len'].value_counts()"
   ],
   "metadata": {
    "collapsed": false,
    "pycharm": {
     "name": "#%%\n"
    }
   }
  },
  {
   "cell_type": "code",
   "execution_count": null,
   "outputs": [],
   "source": [
    "df_catalogues_len_1 = df[df['catalogues_len'] == 1]\n",
    "df_catalogues_len_1['catalogues_1'] = df_catalogues_len_1['catalogues'].apply(lambda x: x[0])\n",
    "df_catalogues_len_1.head()"
   ],
   "metadata": {
    "collapsed": false,
    "pycharm": {
     "name": "#%%\n"
    }
   }
  },
  {
   "cell_type": "code",
   "execution_count": null,
   "outputs": [],
   "source": [
    "len(df_catalogues_len_1)"
   ],
   "metadata": {
    "collapsed": false,
    "pycharm": {
     "name": "#%%\n"
    }
   }
  },
  {
   "cell_type": "code",
   "execution_count": null,
   "outputs": [],
   "source": [
    "from matplotlib.pyplot import xticks\n",
    "dfboth = df_catalogues_len_1.groupby([df_catalogues_len_1['date_published_normal'].dt.strftime('%y-%m'),'catalogues_1']).count()['catalogues_len'].unstack()\n",
    "dfboth.columns = [str(col)+\" \"+catalogues.get_name_catalog_by_key(col) for col in dfboth.columns]\n",
    "\n",
    "dfboth.plot(figsize=(30,15), title=\"Test\", xticks=range(len(dfboth)), grid=True, rot=90)"
   ],
   "metadata": {
    "collapsed": false,
    "pycharm": {
     "name": "#%%\n"
    }
   }
  },
  {
   "cell_type": "code",
   "execution_count": null,
   "outputs": [],
   "source": [
    "import matplotlib.pylab as plt\n",
    "import matplotlib.dates as mdates\n",
    "\n",
    "\n",
    "for key, title in catalogues.generator_keys_catalogues():\n",
    "  fig, ax = plt.subplots(figsize=(15,7))\n",
    "\n",
    "  df_catalog = df_catalogues_len_1.loc[df_catalogues_len_1['catalogues_1'] == key]\n",
    "  df_ = df_catalog.groupby(df_catalog['date_published_normal'].dt.strftime('%y-%m')).count()\n",
    "  ax = df_['date_published_normal'].plot(title = title)\n",
    "  ax.set_xticks(range(len(dfboth)));\n",
    "  ax.set_xticklabels([item for item in dfboth.index.tolist()], rotation=90);"
   ],
   "metadata": {
    "collapsed": false,
    "pycharm": {
     "name": "#%%\n"
    }
   }
  }
 ],
 "metadata": {
  "kernelspec": {
   "display_name": "Python 3",
   "language": "python",
   "name": "python3"
  },
  "language_info": {
   "codemirror_mode": {
    "name": "ipython",
    "version": 2
   },
   "file_extension": ".py",
   "mimetype": "text/x-python",
   "name": "python",
   "nbconvert_exporter": "python",
   "pygments_lexer": "ipython2",
   "version": "2.7.6"
  }
 },
 "nbformat": 4,
 "nbformat_minor": 0
}