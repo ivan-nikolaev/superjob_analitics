{
 "cells": [
  {
   "cell_type": "code",
   "execution_count": 9,
   "metadata": {
    "collapsed": true
   },
   "outputs": [],
   "source": [
    "import pickle\n",
    "\n",
    "def read_from_pickle(filename):\n",
    "    with open(filename, 'rb') as f:\n",
    "        data_new = pickle.load(f)\n",
    "    return data_new\n",
    "\n",
    "\n",
    "def write_to_pickle(filename, data):\n",
    "    with open(filename, 'wb') as f:\n",
    "        pickle.dump(data, f)"
   ]
  },
  {
   "cell_type": "code",
   "execution_count": 10,
   "metadata": {},
   "outputs": [
    {
     "data": {
      "text/plain": [
       "'F:\\\\superjob.ru\\\\filtered_vacancies_by_cats_poss\\\\CK_33_PK__hard_00_10000.pkl'"
      ]
     },
     "execution_count": 10,
     "metadata": {},
     "output_type": "execute_result"
    }
   ],
   "source": [
    "file = r\"F:\\superjob.ru\\filtered_vacancies_by_cats_poss\\CK_33_PK__hard_00_10000.pkl\"\n",
    "file"
   ]
  },
  {
   "cell_type": "code",
   "execution_count": 11,
   "metadata": {},
   "outputs": [],
   "source": [
    "data = read_from_pickle(file)"
   ]
  },
  {
   "cell_type": "code",
   "execution_count": 49,
   "metadata": {},
   "outputs": [],
   "source": [
    "def clear_text(text):\n",
    "    text = text.replace('<br />', '\\n')\n",
    "    return text"
   ]
  },
  {
   "cell_type": "code",
   "execution_count": 75,
   "metadata": {
    "collapsed": false
   },
   "outputs": [
    {
     "name": "stdout",
     "output_type": "stream",
     "text": [
      "<b>Обязанности:</b>\n\n- Поддержка пользователей; - поддержка и развитие инфраструктуры, серверного оборудования в территориально распределенной сети.\n\n<b>Требования:</b>\n\n- Администрирование и развитие серверов баз данных под управлением MS SQL Server 2005/2008; - знание методов построения отказоустойчивых систем на базе MS SQL Server 2005/2008; - администрирование ОС Windows 2003/2008, администрирование AD, DNS, DHCP, DFS, Print Services, Terminal Services; - опыт написания скриптов на VBScript/PowerShell; - администрирование MS Exchange 2003/2007/2010; - знание технологии Windows Failover Clustering; - администрирование VMWARE. Будет считаться плюсом знание или знакомство с: - оборудованием Cisco, Avaya, Nortel; - оборудованием СХД EMC; - оборудованием СХД Hitachi; - FreeBSD; Установка и администрирование Postfix, Zabbix и других приложений под nix; - системами мониторинга Zabbix или Nagios.\n\n<b>Условия:</b>\n\n- М. Коломенская; - график работы 5/2 с 9 до 18; - оформление по ТК РФ; - з/п от 50 000 до 60 000 р. по результатам собеседования (белая); - льготное питание; - больничный, отпуск оплачиваемые; - скидки на технич. обслуживание автомобиля, бесплатная мойка.\n"
     ]
    }
   ],
   "source": [
    "text = data[0]['vacancyRichText']\n",
    "text_ = clear_text(text)\n",
    "print(text_)"
   ]
  },
  {
   "cell_type": "code",
   "execution_count": 93,
   "metadata": {},
   "outputs": [],
   "source": [
    "from razdel import sentenize"
   ]
  },
  {
   "cell_type": "code",
   "execution_count": 94,
   "metadata": {},
   "outputs": [
    {
     "data": {
      "text/plain": [
       "[Substring(0,\n           666,\n           '<b>Обязанности:</b><br /><br />- Поддержка пользователей; - поддержка и развитие инфраструктуры, серверного оборудования в территориально распределенной сети.<br /><br /><b>Требования:</b><br /><br />- Администрирование и развитие серверов баз данных под управлением MS SQL Server 2005/2008; - знание методов построения отказоустойчивых систем на базе MS SQL Server 2005/2008; - администрирование ОС Windows 2003/2008, администрирование AD, DNS, DHCP, DFS, Print Services, Terminal Services; - опыт написания скриптов на VBScript/PowerShell; - администрирование MS Exchange 2003/2007/2010; - знание технологии Windows Failover Clustering; - администрирование VMWARE.'),\n Substring(667,\n           806,\n           'Будет считаться плюсом знание или знакомство с: - оборудованием Cisco, Avaya, Nortel; - оборудованием СХД EMC; - оборудованием СХД Hitachi;'),\n Substring(807, 817, '- FreeBSD;'),\n Substring(818,\n           1230,\n           'Установка и администрирование Postfix, Zabbix и других приложений под nix; - системами мониторинга Zabbix или Nagios.<br /><br /><b>Условия:</b><br /><br />- М. Коломенская; - график работы 5/2 с 9 до 18; - оформление по ТК РФ; - з/п от 50 000 до 60 000 р. по результатам собеседования (белая); - льготное питание; - больничный, отпуск оплачиваемые; - скидки на технич. обслуживание автомобиля, бесплатная мойка.')]"
      ]
     },
     "execution_count": 94,
     "metadata": {},
     "output_type": "execute_result"
    }
   ],
   "source": [
    "list(sentenize(text))"
   ]
  },
  {
   "cell_type": "code",
   "execution_count": 80,
   "metadata": {},
   "outputs": [
    {
     "data": {
      "text/plain": [
       "['<b>Обязанности:</b>\\n\\n- Поддержка пользователей; - поддержка и развитие инфраструктуры, серверного оборудования в территориально распределенной сети.',\n '<b>Требования:</b>\\n\\n- Администрирование и развитие серверов баз данных под управлением MS SQL Server 2005/2008; - знание методов построения отказоустойчивых систем на базе MS SQL Server 2005/2008; - администрирование ОС Windows 2003/2008, администрирование AD, DNS, DHCP, DFS, Print Services, Terminal Services; - опыт написания скриптов на VBScript/PowerShell; - администрирование MS Exchange 2003/2007/2010; - знание технологии Windows Failover Clustering; - администрирование VMWARE.',\n 'Будет считаться плюсом знание или знакомство с: - оборудованием Cisco, Avaya, Nortel; - оборудованием СХД EMC; - оборудованием СХД Hitachi; - FreeBSD; Установка и администрирование Postfix, Zabbix и других приложений под nix; - системами мониторинга Zabbix или Nagios.',\n '<b>Условия:</b>\\n\\n- М. Коломенская; - график работы 5/2 с 9 до 18; - оформление по ТК РФ; - з/п от 50 000 до 60 000 р. по результатам собеседования (белая); - льготное питание; - больничный, отпуск оплачиваемые; - скидки на технич.',\n 'обслуживание автомобиля, бесплатная мойка.']"
      ]
     },
     "execution_count": 80,
     "metadata": {},
     "output_type": "execute_result"
    }
   ],
   "source": [
    "from nltk.tokenize import sent_tokenize\n",
    "sent_tokenize(text_)"
   ]
  },
  {
   "cell_type": "code",
   "execution_count": 57,
   "metadata": {},
   "outputs": [],
   "source": [
    "import spacy_udpipe"
   ]
  },
  {
   "cell_type": "code",
   "execution_count": 58,
   "metadata": {},
   "outputs": [
    {
     "name": "stdout",
     "output_type": "stream",
     "text": [
      "Already downloaded a model for the 'ru' language\n"
     ]
    }
   ],
   "source": [
    "\n",
    "spacy_udpipe.download(\"ru\") \n"
   ]
  },
  {
   "cell_type": "code",
   "execution_count": 61,
   "metadata": {},
   "outputs": [
    {
     "name": "stdout",
     "output_type": "stream",
     "text": [
      "<b>Обязанности:</b>\n- Поддержка пользователей; - поддержка и развитие инфраструктуры, серверного оборудования в территориально распределенной сети.\n<b>Требования:</b>\n- Администрирование и развитие серверов баз данных под управлением MS SQL Server 2005/2008; - знание методов построения отказоустойчивых систем на базе MS SQL Server 2005/2008; - администрирование ОС Windows 2003/2008, администрирование AD, DNS, DHCP, DFS, Print Services, Terminal Services; - опыт написания скриптов на VBScript/PowerShell; - администрирование MS Exchange 2003/2007/2010; - знание технологии Windows Failover Clustering; - администрирование VMWARE.\nБудет считаться плюсом знание или знакомство с: - оборудованием Cisco, Avaya, Nortel; - оборудованием СХД EMC; - оборудованием СХД Hitachi; - FreeBSD;\nУстановка и администрирование Postfix, Zabbix и других приложений под nix; - системами мониторинга Zabbix или Nagios.\n<b>Условия:</b>\n- М. Коломенская; - график работы 5/2 с 9 до 18; - оформление по ТК РФ; - з/п от 50 000 до 60 000 р. по результатам собеседования (белая); - льготное питание; - больничный, отпуск оплачиваемые; - скидки на технич. обслуживание автомобиля, бесплатная мойка.\n"
     ]
    }
   ],
   "source": [
    "\n",
    "nlp = spacy_udpipe.load(\"ru\")\n",
    "\n",
    "doc = nlp(text_)\n",
    "for sent in doc.sents:\n",
    "print(sent)"
   ]
  },
  {
   "cell_type": "code",
   "execution_count": 78,
   "metadata": {},
   "outputs": [],
   "source": [
    "from segtok.segmenter import split_single, split_multi"
   ]
  },
  {
   "cell_type": "code",
   "execution_count": 79,
   "metadata": {},
   "outputs": [
    {
     "data": {
      "text/plain": [
       "['<b>Обязанности:</b>',\n '- Поддержка пользователей; - поддержка и развитие инфраструктуры, серверного оборудования в территориально распределенной сети.',\n '<b>Требования:</b>',\n '- Администрирование и развитие серверов баз данных под управлением MS SQL Server 2005/2008; - знание методов построения отказоустойчивых систем на базе MS SQL Server 2005/2008; - администрирование ОС Windows 2003/2008, администрирование AD, DNS, DHCP, DFS, Print Services, Terminal Services; - опыт написания скриптов на VBScript/PowerShell; - администрирование MS Exchange 2003/2007/2010; - знание технологии Windows Failover Clustering; - администрирование VMWARE.',\n 'Будет считаться плюсом знание или знакомство с: - оборудованием Cisco, Avaya, Nortel; - оборудованием СХД EMC; - оборудованием СХД Hitachi; - FreeBSD; Установка и администрирование Postfix, Zabbix и других приложений под nix; - системами мониторинга Zabbix или Nagios.',\n '<b>Условия:</b>',\n '- М.',\n 'Коломенская; - график работы 5/2 с 9 до 18; - оформление по ТК РФ; - з/п от 50 000 до 60 000 р. по результатам собеседования (белая); - льготное питание; - больничный, отпуск оплачиваемые; - скидки на технич.',\n 'обслуживание автомобиля, бесплатная мойка.']"
      ]
     },
     "execution_count": 79,
     "metadata": {},
     "output_type": "execute_result"
    }
   ],
   "source": [
    "split_single(text_)"
   ]
  },
  {
   "cell_type": "code",
   "execution_count": 77,
   "metadata": {},
   "outputs": [
    {
     "name": "stdout",
     "output_type": "stream",
     "text": [
      "<b>Обязанности:</b>\n- Поддержка пользователей; - поддержка и развитие инфраструктуры, серверного оборудования в территориально распределенной сети.\n<b>Требования:</b>\n- Администрирование и развитие серверов баз данных под управлением MS SQL Server 2005/2008; - знание методов построения отказоустойчивых систем на базе MS SQL Server 2005/2008; - администрирование ОС Windows 2003/2008, администрирование AD, DNS, DHCP, DFS, Print Services, Terminal Services; - опыт написания скриптов на VBScript/PowerShell; - администрирование MS Exchange 2003/2007/2010; - знание технологии Windows Failover Clustering; - администрирование VMWARE.\nБудет считаться плюсом знание или знакомство с: - оборудованием Cisco, Avaya, Nortel; - оборудованием СХД EMC; - оборудованием СХД Hitachi; - FreeBSD; Установка и администрирование Postfix, Zabbix и других приложений под nix; - системами мониторинга Zabbix или Nagios.\n<b>Условия:</b>\n- М.\nКоломенская; - график работы 5/2 с 9 до 18; - оформление по ТК РФ; - з/п от 50 000 до 60 000 р. по результатам собеседования (белая); - льготное питание; - больничный, отпуск оплачиваемые; - скидки на технич.\nобслуживание автомобиля, бесплатная мойка.\n"
     ]
    }
   ],
   "source": [
    "for i in split_multi(text_):\n",
    "    print(i)"
   ]
  },
  {
   "cell_type": "code",
   "execution_count": 95,
   "metadata": {},
   "outputs": [],
   "source": [
    "from b_labs_models import SentenceSegmentator"
   ]
  },
  {
   "cell_type": "code",
   "execution_count": 119,
   "metadata": {},
   "outputs": [
    {
     "name": "stdout",
     "output_type": "stream",
     "text": [
      "<b>Обязанности:</b>\n\nРазработка и отладка технологических программ контроллеров (АРМ операторов) в проектах автоматизации водогрейных и паровых котлов малой и средней мощности. Участие в наладке и сдаче систем автоматизации в эксплуатацию. Разработка эксплуатационной документации.\n\n<b>Требования:</b>\n\n• Высшее техническое образование (предпочтительно энергетического профиля). • Специализация: программирование технологических контроллеров, разработка АРМ операторов при использовании SCADA-систем. • Опыт работы от 2-х лет. • Техническая грамотность. • Знакомство с операционными системами ОS Linux, MS Windows, навыки работы в MS Office. • Практические навыки работы с современными технологическими контроллерами (конфигурирование, тестирование). • Знание системы программирования контроллеров ISaGRAF(или СРВ &quot;КРУГ&quot;, или TRACE MODE), знание технологии OPC. • Опыт разработки управляющих программ при использовании языков стандарта IEC 61131-3, проектирование систем супервизорного управления в SCADA. • Английский язык (технический) – желателен. • Гражданство: Россия • Проживание в Москве или ближнем Подмосковье. • Желание развиваться в профессиональном и техническом плане.\n\n<b>Условия:</b>\n\nЗаработная плата обсуждается по результатам собеседования (от 35000 до 45000 рублей). Предусмотрено дополнительное премирование по результатам реализации проектов. Оплачиваемый больничный лист, отпуск. Работа в растущей успешной компании. Дружный результативный коллектив! Офис - ст. м. Семеновская (5 минут).\n"
     ]
    }
   ],
   "source": [
    "text = data[4]['vacancyRichText']\n",
    "text_ = clear_text(text)\n",
    "print(text_)"
   ]
  },
  {
   "cell_type": "code",
   "execution_count": 120,
   "metadata": {},
   "outputs": [
    {
     "data": {
      "text/plain": [
       "<generator object text2sentences at 0x0000020641F988C8>"
      ]
     },
     "execution_count": 120,
     "metadata": {},
     "output_type": "execute_result"
    }
   ],
   "source": [
    "segmentator = SentenceSegmentator()\n",
    "sentences = segmentator.split(text_)\n",
    "sentences"
   ]
  },
  {
   "cell_type": "code",
   "execution_count": 124,
   "metadata": {},
   "outputs": [
    {
     "data": {
      "text/plain": [
       "'<b>Обязанности:</b>\\n\\nРазработка и отладка технологических программ контроллеров (АРМ операторов) в проектах автоматизации водогрейных и паровых котлов малой и средней мощности. Участие в наладке и сдаче систем автоматизации в эксплуатацию. Разработка эксплуатационной документации.\\n\\n<b>Требования:</b>\\n\\n• Высшее техническое образование (предпочтительно энергетического профиля). • Специализация: программирование технологических контроллеров, разработка АРМ операторов при использовании SCADA-систем. • Опыт работы от 2-х лет. • Техническая грамотность. • Знакомство с операционными системами ОS Linux, MS Windows, навыки работы в MS Office. • Практические навыки работы с современными технологическими контроллерами (конфигурирование, тестирование). • Знание системы программирования контроллеров ISaGRAF(или СРВ &quot;КРУГ&quot;, или TRACE MODE), знание технологии OPC. • Опыт разработки управляющих программ при использовании языков стандарта IEC 61131-3, проектирование систем супервизорного управления в SCADA. • Английский язык (технический) – желателен. • Гражданство: Россия • Проживание в Москве или ближнем Подмосковье. • Желание развиваться в профессиональном и техническом плане.\\n\\n<b>Условия:</b>\\n\\nЗаработная плата обсуждается по результатам собеседования (от 35000 до 45000 рублей). Предусмотрено дополнительное премирование по результатам реализации проектов. Оплачиваемый больничный лист, отпуск. Работа в растущей успешной компании. Дружный результативный коллектив! Офис - ст. м. Семеновская (5 минут).'"
      ]
     },
     "execution_count": 124,
     "metadata": {},
     "output_type": "execute_result"
    }
   ],
   "source": [
    "text_"
   ]
  },
  {
   "cell_type": "code",
   "execution_count": 125,
   "metadata": {
    "collapsed": false
   },
   "outputs": [],
   "source": [
    "for sent in sentences:\n",
    "    print(sent)"
   ]
  },
  {
   "cell_type": "code",
   "execution_count": 119,
   "metadata": {},
   "outputs": [],
   "source": []
  },
  {
   "cell_type": "code",
   "execution_count": null,
   "metadata": {},
   "outputs": [],
   "source": []
  }
 ],
 "metadata": {
  "kernelspec": {
   "display_name": "Python 2",
   "language": "python",
   "name": "python2"
  },
  "language_info": {
   "codemirror_mode": {
    "name": "ipython",
    "version": 2
   },
   "file_extension": ".py",
   "mimetype": "text/x-python",
   "name": "python",
   "nbconvert_exporter": "python",
   "pygments_lexer": "ipython2",
   "version": "2.7.6"
  }
 },
 "nbformat": 4,
 "nbformat_minor": 0
}
